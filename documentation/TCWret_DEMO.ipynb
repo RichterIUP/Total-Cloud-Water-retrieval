{
 "cells": [
  {
   "cell_type": "code",
   "execution_count": null,
   "metadata": {},
   "outputs": [],
   "source": [
    "# Demonstration of the working principle of TCWret\n",
    "# Plot settings\n",
    "fact = 2\n",
    "fs = fact*8\n",
    "figsizes = (fact*4, fact*4)"
   ]
  },
  {
   "cell_type": "code",
   "execution_count": null,
   "metadata": {},
   "outputs": [],
   "source": [
    "# Load all necessary modules\n",
    "\n",
    "# Standard library\n",
    "import datetime          as dt\n",
    "import os                as os\n",
    "import shutil            as shutil\n",
    "import subprocess        as subprocess\n",
    "import sys               as sys\n",
    "import threading         as th\n",
    "\n",
    "# Third-Party modules\n",
    "import matplotlib.pyplot as plt\n",
    "import netCDF4           as nc\n",
    "import numpy             as np\n",
    "import scipy.interpolate as scp\n",
    "import scipy.optimize    as opt\n",
    "import scipy.signal      as sig\n",
    "\n",
    "os.chdir(\"/home/philipp/Seafile/PhD/Home_Office/RETRIEVAL_TCWret/documentation/\")"
   ]
  },
  {
   "cell_type": "code",
   "execution_count": null,
   "metadata": {},
   "outputs": [],
   "source": [
    "# Define constants for this documentation case\n",
    "\n",
    "# State vector\n",
    "mcp     = [1., 1., 10., 30.]\n",
    "mcp_apr = mcp\n",
    "variance_apr = np.identity(4) * np.reciprocal(np.array([5., 5., 100., 100.])**2)\n",
    "\n",
    "# Name of the spectrum\n",
    "name_of_spec = \"PS.20170611_141300.nc\"\n",
    "\n",
    "# Working directory\n",
    "path = \"demo\"\n",
    "\n",
    "# Spectral windows in cm-1\n",
    "number_of_windows = 20\n",
    "microwindows = [[] for ii in range(number_of_windows)]\n",
    "microwindows[0] =  [578.0, 579.0]\n",
    "microwindows[1] =  [785.9, 790.7]\n",
    "microwindows[2] =  [809.5, 813.5]\n",
    "microwindows[3] =  [817.0, 824.4]\n",
    "microwindows[4] =  [828.3, 834.6]\n",
    "microwindows[5] =  [835.8, 838.7]\n",
    "microwindows[6] =  [860.1, 864.0]\n",
    "microwindows[7] =  [872.2, 877.5]\n",
    "microwindows[8] =  [891.9, 895.8]\n",
    "microwindows[9] =  [898.2, 904.8]\n",
    "microwindows[10] = [929.6, 939.7]\n",
    "microwindows[11] = [958.0, 964.3]\n",
    "microwindows[12] = [985.0, 991.5]\n",
    "microwindows[13] = [1076.6, 1084.8]\n",
    "microwindows[14] = [1092.2, 1098.1]\n",
    "microwindows[15] = [1102.5, 1105.0]\n",
    "microwindows[16] = [1113.3, 1116.6]\n",
    "microwindows[17] = [1124.4, 1132.6]\n",
    "microwindows[18] = [1142.2, 1148.0]\n",
    "microwindows[19] = [1155.2, 1163.4]\n",
    "\n",
    "reduced_altitude = np.array([0.018,0.06,0.1,0.15,0.2,0.25,0.3,0.35,0.36,0.37,0.38,0.39,0.4,\\\n",
    "                            0.45,0.5,0.52,0.57,0.62,0.72,0.78,0.81,0.86,0.92,1.1,1.25,1.4,1.6,1.8,2.0,\\\n",
    "                            2.2,2.4,2.6,2.8,3.0,3.2,3.6,3.8,4.0,4.2,4.4,4.7,5.0,5.3,5.6,5.9,6.2,6.5,6.8,\\\n",
    "                            7.1,7.4,7.7,8.0,8.4,8.8,9.2,9.6,10.0,10.5,11.0,11.5,12.0,12.5,13.0,14.0,15.0,\\\n",
    "                            18.0,20.0,25.0,30.0])#km"
   ]
  },
  {
   "cell_type": "code",
   "execution_count": null,
   "metadata": {},
   "outputs": [],
   "source": [
    "# Define calc_noise() to calculate the noise from the spectrum. \n",
    "# To do so, a cubic fit for each microwindow is calculated. The radiance in each windows is \n",
    "# substracted from the fitted radiance. From this distribution, the standard deviation will\n",
    "# be calculated. This is what we assume to be the noise of the spectrum\n",
    "def calc_noise(wavenumber, radiance):\n",
    "    \n",
    "    background = lambda x, a, b, c: a * x**2 + b * x + c\n",
    "\n",
    "    wavenumber_window = []\n",
    "    histogram = []\n",
    "    \n",
    "    for window in range(number_of_windows):\n",
    "        wavenumber_window = wavenumber[(wavenumber > microwindows[window][0]) &\\\n",
    "                                       (wavenumber < microwindows[window][1])]\n",
    "        intersect, idx_0, idx_1 = np.intersect1d(wavenumber, wavenumber_window, return_indices=True)\n",
    "        radiance_window = radiance[idx_0]\n",
    "        popt, pcov = opt.curve_fit(background, wavenumber_window, radiance_window)\n",
    "        histogram += list(radiance_window - background(wavenumber_window, popt[0], popt[1], popt[2]))\n",
    "    \n",
    "    return np.std(histogram), histogram\n",
    "\n",
    "# Read the input for the retrieval\n",
    "with nc.Dataset(name_of_spec) as spec:\n",
    "    date_of_spec       = dt.datetime.strptime(name_of_spec, \"PS.%Y%m%d_%H%M00.nc\")\n",
    "    latitude           = spec.variables['lat'][0]\n",
    "    longitude          = spec.variables['lon'][0]\n",
    "    solar_zenith_angle = spec.variables['sza'][0]\n",
    "    wavenumber         = spec.variables['wavenumber'][:]\n",
    "    radiance           = spec.variables['radiance'][:]\n",
    "    noise, histogram   = calc_noise(wavenumber, radiance)\n",
    "    cloud_base         = spec.variables['cloud_base'][0]*1e3\n",
    "    cloud_top          = spec.variables['cloud_top'][0]*1e3\n",
    "    altitude           = np.array(spec.variables['z'][:])\n",
    "    pressure           = np.array(spec.variables['P'][:])\n",
    "    temperature        = np.array(spec.variables['T'][:])\n",
    "    humidity           = np.array(spec.variables['sh'][:])\n",
    "    co2_profile        = np.array(spec.variables['co2'][:])\n",
    "    o3_profile         = np.array(spec.variables['o3'][:])\n",
    "\n",
    "# Reduce the number of altitude layers\n",
    "pressure         = np.interp(reduced_altitude, altitude, pressure)\n",
    "temperature      = np.interp(reduced_altitude, altitude, temperature)\n",
    "humidity         = np.interp(reduced_altitude, altitude, humidity)\n",
    "altitude         = reduced_altitude\n",
    "\n",
    "atmospheric_grid = [pressure, altitude, temperature, humidity]"
   ]
  },
  {
   "cell_type": "code",
   "execution_count": null,
   "metadata": {
    "scrolled": true
   },
   "outputs": [],
   "source": [
    "# Show the noise-histogram\n",
    "plt.figure(figsize=figsizes)\n",
    "plt.title(\"Estimation of noise\", fontsize=fs)\n",
    "plt.hist(histogram, label=r\"$\\sigma = %.2f$\" % np.std(histogram))\n",
    "plt.xlabel(\"Difference of the spectral radiance\", fontsize=fs)\n",
    "plt.tick_params(labelsize=fs)\n",
    "plt.grid(True)\n",
    "plt.legend(fontsize=fs)\n",
    "plt.show()\n",
    "plt.close()\n",
    "plt.clf()"
   ]
  },
  {
   "cell_type": "code",
   "execution_count": null,
   "metadata": {},
   "outputs": [],
   "source": [
    "# Plot the atmospheric profile\n",
    "plt.figure(figsize=figsizes)\n",
    "plt.title(\"Temperature vs. Altitude\", fontsize=fs)\n",
    "plt.plot(temperature, altitude, label=\"Temperature\")\n",
    "plt.plot(temperature, [cloud_base*1e-3 for ii in range(len(humidity))], label=\"Cloud base\")\n",
    "plt.xlabel(\"Temperature\", fontsize=fs)\n",
    "plt.ylabel(\"Altitude\", fontsize=fs)\n",
    "plt.ylim([0, 30])\n",
    "plt.grid(True)\n",
    "plt.legend(fontsize=fs)\n",
    "plt.tick_params(labelsize=fs)\n",
    "plt.show()\n",
    "plt.close()\n",
    "plt.clf()"
   ]
  },
  {
   "cell_type": "code",
   "execution_count": null,
   "metadata": {},
   "outputs": [],
   "source": [
    "# Plot the atmospheric profile\n",
    "plt.figure(figsize=figsizes)\n",
    "plt.title(\"Humidity vs. Altitude\", fontsize=fs)\n",
    "plt.plot(humidity, altitude, label=\"Humidity\")\n",
    "plt.plot(humidity, [cloud_base*1e-3 for ii in range(len(humidity))], label=\"Cloud base\")\n",
    "plt.xlabel(\"Humidity\", fontsize=fs)\n",
    "plt.ylabel(\"Altitude\", fontsize=fs)\n",
    "plt.ylim([0, 30])\n",
    "plt.grid(True)\n",
    "plt.legend(fontsize=fs)\n",
    "plt.tick_params(labelsize=fs)\n",
    "plt.show()\n",
    "plt.close()\n",
    "plt.clf()"
   ]
  },
  {
   "cell_type": "code",
   "execution_count": null,
   "metadata": {},
   "outputs": [],
   "source": [
    "# Plot the atmospheric profile\n",
    "plt.figure(figsize=figsizes)\n",
    "plt.title(\"Pressure vs. Altitude\", fontsize=fs)\n",
    "plt.plot(pressure, altitude, label=\"Pressure\")\n",
    "plt.plot(pressure, [cloud_base*1e-3 for ii in range(len(humidity))], label=\"Cloud base\")\n",
    "plt.xlabel(\"Pressure\", fontsize=fs)\n",
    "plt.ylabel(\"Altitude\", fontsize=fs)\n",
    "plt.ylim([0, 30])\n",
    "plt.grid(True)\n",
    "plt.legend(fontsize=fs)\n",
    "plt.tick_params(labelsize=fs)\n",
    "plt.show()\n",
    "plt.close()\n",
    "plt.clf()"
   ]
  },
  {
   "cell_type": "code",
   "execution_count": null,
   "metadata": {},
   "outputs": [],
   "source": [
    "# Plot the spectral radiances\n",
    "plt.figure(figsize=figsizes)\n",
    "plt.title(\"Spectral radiances\", fontsize=fs)\n",
    "plt.plot(wavenumber, radiance)\n",
    "plt.xlabel(\"Wavenumber (cm-1)\", fontsize=fs)\n",
    "plt.ylabel(\"Spectral radiance (mW/(sr*cm-1*m2))\", fontsize=fs)\n",
    "plt.grid(True)\n",
    "plt.ylim([0, 200])\n",
    "plt.xlim([max(wavenumber), min(wavenumber)])\n",
    "plt.tick_params(labelsize=fs)\n",
    "plt.show()\n",
    "plt.close()\n",
    "plt.clf()"
   ]
  },
  {
   "cell_type": "code",
   "execution_count": null,
   "metadata": {},
   "outputs": [],
   "source": [
    "radiance_lbldis = [[],[],[],[],[],[],[],[],[]]\n",
    "\n",
    "# Create working directory\n",
    "if not os.path.exists(path):\n",
    "    os.mkdir(path)\n",
    "if not os.path.exists(\"{}/lblout\".format(path)):\n",
    "    os.mkdir(\"{}/lblout\".format(path))"
   ]
  },
  {
   "cell_type": "code",
   "execution_count": null,
   "metadata": {},
   "outputs": [],
   "source": [
    "# Find the altitude layers nearest to the cloud\n",
    "altitude_cloud_base = list(np.abs(np.array(altitude)-cloud_base*1e-3))\n",
    "altitude_cloud_top  = list(np.abs(np.array(altitude)-cloud_top*1e-3))\n",
    "idx_cb = altitude_cloud_base.index(np.min(altitude_cloud_base))\n",
    "idx_ct = altitude_cloud_top.index(np.min(altitude_cloud_top))\n",
    "indices = np.arange(idx_cb, idx_ct+1, 1)\n",
    "cloud_grid = np.array(altitude[indices]*1e3)\n",
    "cloud_temp = np.mean(temperature[indices])"
   ]
  },
  {
   "cell_type": "code",
   "execution_count": null,
   "metadata": {},
   "outputs": [],
   "source": [
    "# Inspect the output\n",
    "print(cloud_grid, cloud_temp)"
   ]
  },
  {
   "cell_type": "code",
   "execution_count": null,
   "metadata": {},
   "outputs": [],
   "source": [
    "# Calculate the variance matrix of the spectral radiacnes\n",
    "variance_radiances = np.identity(len(wavenumber)) * np.reciprocal(noise)"
   ]
  },
  {
   "cell_type": "code",
   "execution_count": null,
   "metadata": {},
   "outputs": [],
   "source": [
    "# Inspect the output\n",
    "print(\"Initial state vector\")\n",
    "print(mcp)\n",
    "print(\"A priori\")\n",
    "print(mcp_apr)\n",
    "print(\"Variance of the A Priori\")\n",
    "print(variance_apr)\n",
    "print(\"Variance of the radiances\")\n",
    "print(variance_radiances)"
   ]
  }
 ],
 "metadata": {
  "kernelspec": {
   "display_name": "Python 3",
   "language": "python",
   "name": "python3"
  },
  "language_info": {
   "codemirror_mode": {
    "name": "ipython",
    "version": 3
   },
   "file_extension": ".py",
   "mimetype": "text/x-python",
   "name": "python",
   "nbconvert_exporter": "python",
   "pygments_lexer": "ipython3",
   "version": "3.7.6"
  }
 },
 "nbformat": 4,
 "nbformat_minor": 4
}
