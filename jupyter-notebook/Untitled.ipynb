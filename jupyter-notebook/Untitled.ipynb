{
 "cells": [
  {
   "cell_type": "code",
   "execution_count": 137,
   "metadata": {},
   "outputs": [],
   "source": [
    "import os\n",
    "import numpy as np\n",
    "import pandas as pd\n",
    "import matplotlib.pyplot as plt\n",
    "import datetime as dt"
   ]
  },
  {
   "cell_type": "code",
   "execution_count": 106,
   "metadata": {},
   "outputs": [
    {
     "data": {
      "text/plain": [
       "508951"
      ]
     },
     "execution_count": 106,
     "metadata": {},
     "output_type": "execute_result"
    }
   ],
   "source": [
    "dt.datetime.now().microsecond\n"
   ]
  },
  {
   "cell_type": "code",
   "execution_count": 138,
   "metadata": {},
   "outputs": [
    {
     "data": {
      "text/plain": [
       "['results_cre_150.0_1500.0.csv', 'results_cre_1500.0_2800.0.csv']"
      ]
     },
     "execution_count": 138,
     "metadata": {},
     "output_type": "execute_result"
    }
   ],
   "source": [
    "folder = sorted(os.listdir(\"/home/phi.richter/CRE/PS.20170611_141300.nc\"))\n",
    "folder"
   ]
  },
  {
   "cell_type": "code",
   "execution_count": 170,
   "metadata": {},
   "outputs": [],
   "source": [
    "os.chdir(\"/mnt/beegfs/user/phi.richter/OUTFOLDER_Calc_CRE/TCWret_inp_20170525_044045.nc\")\n",
    "results_cre = pd.read_csv(\"/mnt/beegfs/user/phi.richter/OUTFOLDER_Calc_CRE/TCWret_inp_20170525_044045.nc/1/results_cre_200.0_1500.0.csv\")\n",
    "results_cre2 = pd.read_csv(\"/mnt/beegfs/user/phi.richter/OUTFOLDER_Calc_CRE/TCWret_inp_20170525_044045.nc/2/results_cre_1500.0_2800.0.csv\")\n"
   ]
  },
  {
   "cell_type": "code",
   "execution_count": 171,
   "metadata": {},
   "outputs": [],
   "source": [
    "results_cre = results_cre.append(results_cre2)"
   ]
  },
  {
   "cell_type": "code",
   "execution_count": 172,
   "metadata": {},
   "outputs": [
    {
     "data": {
      "text/plain": [
       "[<matplotlib.lines.Line2D at 0x2b2adda7ea20>]"
      ]
     },
     "execution_count": 172,
     "metadata": {},
     "output_type": "execute_result"
    },
    {
     "data": {
      "image/png": "[encoded data removed]",
      "text/plain": [
       "<Figure size 432x288 with 1 Axes>"
      ]
     },
     "metadata": {
      "needs_background": "light"
     },
     "output_type": "display_data"
    }
   ],
   "source": [
    "diff = results_cre['radiance_clear']-results_cre['radiance_cloudy']\n",
    "plt.plot(results_cre['wavenumber_clear'], results_cre['radiance_clear'], c=\"blue\")\n",
    "plt.plot(results_cre['wavenumber_cloudy'], results_cre['radiance_cloudy'], c=\"black\")\n",
    "plt.plot(results_cre['wavenumber_clear'], diff, c=\"red\")\n",
    "#plt.xlim([1800, 2600])\n",
    "#plt.ylim([0, 25.0])"
   ]
  },
  {
   "cell_type": "code",
   "execution_count": 173,
   "metadata": {},
   "outputs": [
    {
     "data": {
      "text/plain": [
       "(332.6417801975256, 219.4873673969099, 113.15441280061569)"
      ]
     },
     "execution_count": 173,
     "metadata": {},
     "output_type": "execute_result"
    }
   ],
   "source": [
    "integral_cloudy = np.pi*1e-3 * np.sum(results_cre['radiance_cloudy'])*np.mean(np.ediff1d(results_cre['wavenumber_cloudy']))\n",
    "integral_clear = np.pi*1e-3 * np.sum(results_cre['radiance_clear'])*np.mean(np.ediff1d(results_cre['wavenumber_clear']))\n",
    "integral_cloudy, integral_clear,  - (integral_clear - integral_cloudy)"
   ]
  }
 ],
 "metadata": {
  "kernelspec": {
   "display_name": "v2020.1 LAMOS (py3.7)",
   "language": "python",
   "name": "lamos_2020.1"
  },
  "language_info": {
   "codemirror_mode": {
    "name": "ipython",
    "version": 3
   },
   "file_extension": ".py",
   "mimetype": "text/x-python",
   "name": "python",
   "nbconvert_exporter": "python",
   "pygments_lexer": "ipython3",
   "version": "3.7.3"
  }
 },
 "nbformat": 4,
 "nbformat_minor": 4
}
