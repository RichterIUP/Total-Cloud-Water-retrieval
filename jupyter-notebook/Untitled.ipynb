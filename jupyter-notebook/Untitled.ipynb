{
 "cells": [
  {
   "cell_type": "code",
   "execution_count": 14,
   "metadata": {},
   "outputs": [],
   "source": [
    "import os\n",
    "import numpy as np\n",
    "import pandas as pd\n",
    "import matplotlib.pyplot as plt"
   ]
  },
  {
   "cell_type": "code",
   "execution_count": 17,
   "metadata": {},
   "outputs": [
    {
     "data": {
      "text/plain": [
       "['6_12_15_10_31_851273',\n",
       " '6_12_15_16_7_331822',\n",
       " '6_12_15_30_27_974398',\n",
       " '6_12_15_38_43_798869',\n",
       " '6_12_15_3_24_711535',\n",
       " '6_12_15_43_26_332934',\n",
       " '6_12_15_46_33_494652',\n",
       " '6_12_15_51_39_554328',\n",
       " '6_12_15_53_45_439271',\n",
       " '6_12_15_53_5_840974',\n",
       " '6_12_15_54_57_164236',\n",
       " '6_12_15_8_19_938663']"
      ]
     },
     "execution_count": 17,
     "metadata": {},
     "output_type": "execute_result"
    }
   ],
   "source": [
    "folder = sorted(os.listdir(\"/mnt/beegfs/user/phi.richter/OUTFOLDER_Calc_CRE/PS.20170611_141300.nc\"))\n",
    "folder"
   ]
  },
  {
   "cell_type": "code",
   "execution_count": 18,
   "metadata": {},
   "outputs": [],
   "source": [
    "os.chdir(\"/mnt/beegfs/user/phi.richter/OUTFOLDER_Calc_CRE/PS.20170611_141300.nc/{}/\".format(folder[-2]))\n",
    "results_cre = pd.read_csv(\"results_cre.csv\")\n"
   ]
  },
  {
   "cell_type": "code",
   "execution_count": 19,
   "metadata": {},
   "outputs": [
    {
     "data": {
      "text/html": [
       "<div>\n",
       "<style scoped>\n",
       "    .dataframe tbody tr th:only-of-type {\n",
       "        vertical-align: middle;\n",
       "    }\n",
       "\n",
       "    .dataframe tbody tr th {\n",
       "        vertical-align: top;\n",
       "    }\n",
       "\n",
       "    .dataframe thead th {\n",
       "        text-align: right;\n",
       "    }\n",
       "</style>\n",
       "<table border=\"1\" class=\"dataframe\">\n",
       "  <thead>\n",
       "    <tr style=\"text-align: right;\">\n",
       "      <th></th>\n",
       "      <th>radiance_clear</th>\n",
       "      <th>radiance_cloudy</th>\n",
       "      <th>wavenumber_clear</th>\n",
       "      <th>wavenumber_cloudy</th>\n",
       "    </tr>\n",
       "  </thead>\n",
       "  <tbody>\n",
       "    <tr>\n",
       "      <td>0</td>\n",
       "      <td>52.529936</td>\n",
       "      <td>52.529936</td>\n",
       "      <td>204.0</td>\n",
       "      <td>204.0</td>\n",
       "    </tr>\n",
       "    <tr>\n",
       "      <td>1</td>\n",
       "      <td>53.935253</td>\n",
       "      <td>53.935253</td>\n",
       "      <td>208.0</td>\n",
       "      <td>208.0</td>\n",
       "    </tr>\n",
       "    <tr>\n",
       "      <td>2</td>\n",
       "      <td>55.333673</td>\n",
       "      <td>55.333673</td>\n",
       "      <td>212.0</td>\n",
       "      <td>212.0</td>\n",
       "    </tr>\n",
       "    <tr>\n",
       "      <td>3</td>\n",
       "      <td>56.720209</td>\n",
       "      <td>56.720251</td>\n",
       "      <td>216.0</td>\n",
       "      <td>216.0</td>\n",
       "    </tr>\n",
       "    <tr>\n",
       "      <td>4</td>\n",
       "      <td>58.112041</td>\n",
       "      <td>58.112083</td>\n",
       "      <td>220.0</td>\n",
       "      <td>220.0</td>\n",
       "    </tr>\n",
       "    <tr>\n",
       "      <td>...</td>\n",
       "      <td>...</td>\n",
       "      <td>...</td>\n",
       "      <td>...</td>\n",
       "      <td>...</td>\n",
       "    </tr>\n",
       "    <tr>\n",
       "      <td>319</td>\n",
       "      <td>15.845510</td>\n",
       "      <td>15.878434</td>\n",
       "      <td>1480.0</td>\n",
       "      <td>1480.0</td>\n",
       "    </tr>\n",
       "    <tr>\n",
       "      <td>320</td>\n",
       "      <td>15.668963</td>\n",
       "      <td>15.694621</td>\n",
       "      <td>1484.0</td>\n",
       "      <td>1484.0</td>\n",
       "    </tr>\n",
       "    <tr>\n",
       "      <td>321</td>\n",
       "      <td>15.544857</td>\n",
       "      <td>15.553887</td>\n",
       "      <td>1488.0</td>\n",
       "      <td>1488.0</td>\n",
       "    </tr>\n",
       "    <tr>\n",
       "      <td>322</td>\n",
       "      <td>15.354106</td>\n",
       "      <td>15.358990</td>\n",
       "      <td>1492.0</td>\n",
       "      <td>1492.0</td>\n",
       "    </tr>\n",
       "    <tr>\n",
       "      <td>323</td>\n",
       "      <td>15.159762</td>\n",
       "      <td>15.164421</td>\n",
       "      <td>1496.0</td>\n",
       "      <td>1496.0</td>\n",
       "    </tr>\n",
       "  </tbody>\n",
       "</table>\n",
       "<p>324 rows × 4 columns</p>\n",
       "</div>"
      ],
      "text/plain": [
       "     radiance_clear  radiance_cloudy  wavenumber_clear  wavenumber_cloudy\n",
       "0         52.529936        52.529936             204.0              204.0\n",
       "1         53.935253        53.935253             208.0              208.0\n",
       "2         55.333673        55.333673             212.0              212.0\n",
       "3         56.720209        56.720251             216.0              216.0\n",
       "4         58.112041        58.112083             220.0              220.0\n",
       "..              ...              ...               ...                ...\n",
       "319       15.845510        15.878434            1480.0             1480.0\n",
       "320       15.668963        15.694621            1484.0             1484.0\n",
       "321       15.544857        15.553887            1488.0             1488.0\n",
       "322       15.354106        15.358990            1492.0             1492.0\n",
       "323       15.159762        15.164421            1496.0             1496.0\n",
       "\n",
       "[324 rows x 4 columns]"
      ]
     },
     "execution_count": 19,
     "metadata": {},
     "output_type": "execute_result"
    }
   ],
   "source": [
    "results_cre"
   ]
  },
  {
   "cell_type": "code",
   "execution_count": 20,
   "metadata": {},
   "outputs": [
    {
     "data": {
      "text/plain": [
       "[<matplotlib.lines.Line2D at 0x2b2add1bf8d0>]"
      ]
     },
     "execution_count": 20,
     "metadata": {},
     "output_type": "execute_result"
    },
    {
     "data": {
      "image/png": "[encoded data removed]",
      "text/plain": [
       "<Figure size 432x288 with 1 Axes>"
      ]
     },
     "metadata": {
      "needs_background": "light"
     },
     "output_type": "display_data"
    }
   ],
   "source": [
    "plt.plot(results_cre['wavenumber_clear'], results_cre['radiance_clear'], c=\"blue\")\n",
    "plt.plot(results_cre['wavenumber_cloudy'], results_cre['radiance_cloudy'], c=\"black\")"
   ]
  }
 ],
 "metadata": {
  "kernelspec": {
   "display_name": "v2020.1 LAMOS (py3.7)",
   "language": "python",
   "name": "lamos_2020.1"
  },
  "language_info": {
   "codemirror_mode": {
    "name": "ipython",
    "version": 3
   },
   "file_extension": ".py",
   "mimetype": "text/x-python",
   "name": "python",
   "nbconvert_exporter": "python",
   "pygments_lexer": "ipython3",
   "version": "3.7.3"
  }
 },
 "nbformat": 4,
 "nbformat_minor": 4
}
